{
 "cells": [
  {
   "cell_type": "markdown",
   "metadata": {},
   "source": [
    "## Task6 Different Optimizers \n",
    "#### The following contents refer some parts from <a href=\"http://cs231n.github.io/neural-networks-3/\">CS231n</a>"
   ]
  },
  {
   "cell_type": "markdown",
   "metadata": {},
   "source": [
    "- Once the analytic gradient is computed with backpropagation, the gradients are used to perform a parameter update. There are several approaches for performing the update"
   ]
  },
  {
   "cell_type": "markdown",
   "metadata": {},
   "source": [
    "#### Vanilla Update \n",
    "- The simplest form of update is to change the parameters along the negative gradient direction \n",
    "\n",
    "$$ x += -lr * dx$$\n",
    "\n",
    "#### Momentum update \n",
    "- This update can be motivated from a physical perspective of the optimization problem.\n",
    "- The loss can be interpreted as the <strong> height of a hilly terrain</strong>. Initializing the parameters with random numbers is equivalent to setting a particle with zero initial velocity at some location. The optimization process can then be seen as equivalent to the process of simulating the parameter vector (i.e. a particle) as rolling on the landscape.\n",
    "\n",
    "$$ v = \\mu v - lr * dx $$\n",
    "$$ x = x + v $$\n",
    "\n",
    "- A typical setting is to start with momentum of about 0.5 and anneal it to 0.99 or so over multiple epochs.\n",
    "\n",
    "#### Nesterov Momentum \n",
    "- Nesterov Momentum is a slightly different version of the momentum update that has recently been gaining popularity. It enjoys stronger <strong> theoretical converge guarantees for convex functions</strong> and in practice it also consistenly works slightly better than standard momentum.\n",
    "\n",
    "# To Be Continued..."
   ]
  }
 ],
 "metadata": {
  "kernelspec": {
   "display_name": "Python 3",
   "language": "python",
   "name": "python3"
  },
  "language_info": {
   "codemirror_mode": {
    "name": "ipython",
    "version": 3
   },
   "file_extension": ".py",
   "mimetype": "text/x-python",
   "name": "python",
   "nbconvert_exporter": "python",
   "pygments_lexer": "ipython3",
   "version": "3.6.9"
  }
 },
 "nbformat": 4,
 "nbformat_minor": 2
}
