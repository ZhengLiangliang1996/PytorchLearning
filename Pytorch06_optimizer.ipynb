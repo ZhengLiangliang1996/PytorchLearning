{
 "cells": [
  {
   "cell_type": "markdown",
   "metadata": {},
   "source": [
    "## Task6 Different Optimizers \n",
    "#### The following contents refer some parts from <a href=\"http://cs231n.github.io/neural-networks-3/\">CS231n</a>"
   ]
  },
  {
   "cell_type": "markdown",
   "metadata": {},
   "source": [
    "- Once the analytic gradient is computed with backpropagation, the gradients are used to perform a parameter update. There are several approaches for performing the update"
   ]
  },
  {
   "cell_type": "markdown",
   "metadata": {},
   "source": [
    "#### Vanilla Update \n",
    "- The simplest form of update is to change the parameters along the negative gradient direction \n",
    "\n",
    "$$ x += -lr * dx$$\n",
    "\n",
    "#### Momentum update \n",
    "- This update can be motivated from a physical perspective of the optimization problem.\n",
    "- The loss can be interpreted as the <strong> height of a hilly terrain</strong>. Initializing the parameters with random numbers is equivalent to setting a particle with zero initial velocity at some location. The optimization process can then be seen as equivalent to the process of simulating the parameter vector (i.e. a particle) as rolling on the landscape.\n",
    "\n",
    "$$ v = \\mu v - lr * dx $$\n",
    "$$ x = x + v $$\n",
    "\n",
    "- A typical setting is to start with momentum of about 0.5 and anneal it to 0.99 or so over multiple epochs.\n",
    "\n",
    "#### Nesterov Momentum \n",
    "- Nesterov Momentum is a slightly different version of the momentum update that has recently been gaining popularity. It enjoys stronger <strong> theoretical converge guarantees for convex functions</strong> and in practice it also consistenly works slightly better than standard momentum.\n",
    "\n",
    "$$ ahead = x + mu * v $$\n",
    "\n",
    "$$ v = mu * v - lr * dxahead $$\n",
    "$$ x += v $$"
   ]
  },
  {
   "cell_type": "markdown",
   "metadata": {},
   "source": [
    "###  Per-parameter adaptive learning rate methods\n",
    "\n",
    "#### Adagrad \n",
    "\n",
    "$$ cache += dx**2 $$\n",
    "$$ x += - lr * dx / (np.sqrt(cache) + eps) $$\n",
    "\n",
    "- cache has size equal to the size of gradient, eps is the smoothing term\n",
    "\n",
    "- <strong> Adaptive Gradient Algorithm</strong> (AdaGrad) that maintains a per-parameter learning rate that improves performance on problems with sparse gradients (e.g. natural language and computer vision problems).\n",
    "\n",
    "#### RMSprop\n",
    "\n",
    "$$ cache = decay * cache + (1 - decay) * dx**2 $$\n",
    "$$ x += - lr * dx / (np.sqrt(cache) + eps) $$\n",
    "\n",
    "- decay is a hyperparameter and typical values are 0.9 0.99 or 0.999\n",
    "- <strong> Root Mean Square Propagation</strong> (RMSProp) that also maintains per-parameter learning rates that are adapted based on the average of recent magnitudes of the gradients for the weight (e.g. how quickly it is changing). This means the algorithm does well on online and non-stationary problems (e.g. noisy).\n",
    "\n",
    "#### Adam\n",
    "\n",
    "\n",
    "$$ m = beta1*m + (1-beta1)*dx $$\n",
    "$$ v = beta2*v + (1-beta2)*(dx**2) $$\n",
    "$$ x += - lr * m / (np.sqrt(v) + eps) $$\n",
    "- The following conclusions are from <a href=\"https://arxiv.org/abs/1412.6980\">arXiv.org</a>\n",
    "- Adam realizes the benefits of both AdaGrad and RMSProp. Instead of adapting the parameter learning rates based on the average first moment (the mean) as in RMSProp, Adam also makes use of the average of the second moments of the gradients (the uncentered variance).\n",
    "- Specifically, the algorithm calculates an exponential moving average of the gradient and the squared gradient, and the parameters beta1 and beta2 control the decay rates of these moving averages.\n",
    "- The initial value of the moving averages and beta1 and beta2 values close to 1.0 (recommended) result in a bias of moment estimates towards zero. This bias is overcome by first calculating the biased estimates before then calculating bias-corrected estimates."
   ]
  },
  {
   "cell_type": "code",
   "execution_count": 1,
   "metadata": {},
   "outputs": [],
   "source": [
    "import torch\n",
    "import torch.nn as nn\n",
    "import torch.nn.functional as F\n",
    "import torch.optim as optim\n",
    "\n",
    "class TwoLayerNet(torch.nn.Module):\n",
    "    def __init__(self, D_in, H, D_out):\n",
    "        \"\"\"\n",
    "        In the constructor we instantiate two nn.Linear modules and assign them as\n",
    "        member variables.\n",
    "        \"\"\"\n",
    "        super(TwoLayerNet, self).__init__()\n",
    "        self.linear1 = torch.nn.Linear(D_in, H)\n",
    "        self.linear2 = torch.nn.Linear(H, D_out)\n",
    "\n",
    "    def forward(self, x):\n",
    "        \"\"\"\n",
    "        In the forward function we accept a Tensor of input data and we must return\n",
    "        a Tensor of output data. We can use Modules defined in the constructor as\n",
    "        well as arbitrary (differentiable) operations on Tensors.\n",
    "        \"\"\"\n",
    "        h_relu = self.linear1(x).clamp(min=0)\n",
    "        y_pred = self.linear2(h_relu)\n",
    "        return y_pred"
   ]
  },
  {
   "cell_type": "code",
   "execution_count": 2,
   "metadata": {
    "scrolled": true
   },
   "outputs": [],
   "source": [
    "N, D_in, H, D_out = 64, 1000, 100, 10"
   ]
  },
  {
   "cell_type": "code",
   "execution_count": 3,
   "metadata": {
    "scrolled": true
   },
   "outputs": [
    {
     "name": "stdout",
     "output_type": "stream",
     "text": [
      "TwoLayerNet(\n",
      "  (linear1): Linear(in_features=1000, out_features=100, bias=True)\n",
      "  (linear2): Linear(in_features=100, out_features=10, bias=True)\n",
      ")\n"
     ]
    }
   ],
   "source": [
    "model = TwoLayerNet(D_in, H, D_out)\n",
    "print(model)"
   ]
  },
  {
   "cell_type": "code",
   "execution_count": 4,
   "metadata": {},
   "outputs": [],
   "source": [
    "# Create random Tensors to hold inputs and outputs\n",
    "x = torch.randn(N, D_in)\n",
    "y = torch.randn(N, D_out)"
   ]
  },
  {
   "cell_type": "markdown",
   "metadata": {},
   "source": [
    "### TRAIN"
   ]
  },
  {
   "cell_type": "code",
   "execution_count": 5,
   "metadata": {},
   "outputs": [],
   "source": [
    "# define differnt optimizer\n",
    "op1_SGD = TwoLayerNet(D_in, H, D_out)\n",
    "op2_Mom = TwoLayerNet(D_in, H, D_out)\n",
    "op3_RMSprop = TwoLayerNet(D_in, H, D_out)\n",
    "op4_ADAM = TwoLayerNet(D_in, H, D_out)\n",
    "# list for iteration  models\n",
    "models = [op1_SGD, op2_Mom, op3_RMSprop, op4_ADAM]\n",
    "\n",
    "twolayernet_SGD = optim.SGD(op1_SGD.parameters(), lr = 1e-4)\n",
    "twolayernet_Mom = optim.SGD(op2_Mom.parameters(), lr = 1e-4, momentum = 0.8)\n",
    "twolayernet_RMSprop = optim.RMSprop(op3_RMSprop.parameters(), lr = 1e-4, alpha=0.9)\n",
    "twolayernet_Adam = optim.Adam(op4_ADAM.parameters(), lr = 1e-4,  betas=(0.9, 0.99))\n",
    "# list of optimizers \n",
    "optimizers = [twolayernet_SGD, twolayernet_Mom, twolayernet_RMSprop, twolayernet_Adam]\n",
    "\n",
    "# loss \n",
    "loss_fn = torch.nn.MSELoss(reduction='sum')\n",
    "loss_all = [[], [], [], []]"
   ]
  },
  {
   "cell_type": "code",
   "execution_count": 6,
   "metadata": {},
   "outputs": [],
   "source": [
    "for t in range(100):\n",
    "    # Forward pass: Compute predicted y by passing x to the model  \n",
    "    for model, op, loss_one in zip(models, optimizers, loss_all):\n",
    "        y_pred = model(x)\n",
    "\n",
    "        # Compute and print loss\n",
    "        loss = loss_fn(y_pred, y)\n",
    "\n",
    "        # Zero gradients, perform a backward pass, and update the weights.\n",
    "        op.zero_grad()\n",
    "        loss.backward()\n",
    "        op.step()\n",
    "        loss_one.append(loss.item())"
   ]
  },
  {
   "cell_type": "code",
   "execution_count": 8,
   "metadata": {},
   "outputs": [
    {
     "data": {
      "image/png": "[encoded data removed]",
      "text/plain": [
       "<Figure size 432x288 with 1 Axes>"
      ]
     },
     "metadata": {
      "needs_background": "light"
     },
     "output_type": "display_data"
    }
   ],
   "source": [
    "import matplotlib.pyplot as plt\n",
    "labels = ['SGD', 'Momentum', 'RMSprop', 'Adam']\n",
    "for i, loss_one in enumerate(loss_all):\n",
    "    plt.plot(loss_one, label=labels[i])\n",
    "plt.legend(loc='best')\n",
    "plt.xlabel('steps')\n",
    "plt.ylabel('loss')\n",
    "plt.ylim((0, 600))\n",
    "plt.xlim((0, 100))\n",
    "plt.show()"
   ]
  }
 ],
 "metadata": {
  "kernelspec": {
   "display_name": "Python 3",
   "language": "python",
   "name": "python3"
  },
  "language_info": {
   "codemirror_mode": {
    "name": "ipython",
    "version": 3
   },
   "file_extension": ".py",
   "mimetype": "text/x-python",
   "name": "python",
   "nbconvert_exporter": "python",
   "pygments_lexer": "ipython3",
   "version": "3.6.9"
  }
 },
 "nbformat": 4,
 "nbformat_minor": 2
}
