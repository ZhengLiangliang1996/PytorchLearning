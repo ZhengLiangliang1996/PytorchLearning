{
 "cells": [
  {
   "cell_type": "markdown",
   "metadata": {},
   "source": [
    "### Pytorch 第八期 打卡 01\n",
    "#### 参考 <a href=\"https://zhuanlan.zhihu.com/p/39667289\">zhihu<a/>\n"
   ]
  },
  {
   "cell_type": "code",
   "execution_count": 7,
   "metadata": {},
   "outputs": [
    {
     "name": "stdout",
     "output_type": "stream",
     "text": [
      "Files already downloaded and verified\n"
     ]
    }
   ],
   "source": [
    "import torch\n",
    "import torch.nn as nn\n",
    "import torch.nn.functional as F\n",
    "import torchvision\n",
    "import torchvision.transforms as transforms\n",
    "# cifar-10官方提供的数据集是用numpy array存储的\n",
    "# 下面这个transform会把numpy array变成torch tensor，然后把rgb值归一到[0, 1]这个区间\n",
    "transform = transforms.Compose(\n",
    "    [transforms.ToTensor(),\n",
    "     transforms.Normalize((0.5, 0.5, 0.5), (0.5, 0.5, 0.5))])\n",
    "\n",
    "# 在构建数据集的时候指定transform，就会应用我们定义好的transform\n",
    "# root是存储数据的文件夹，download=True指定如果数据不存在先下载数据\n",
    "cifar_train = torchvision.datasets.CIFAR10(root='./data', train=True,\n",
    "                                           download=True, transform=transform)\n",
    "cifar_test = torchvision.datasets.CIFAR10(root='./data', train=False,\n",
    "                                          transform=transform)"
   ]
  },
  {
   "cell_type": "code",
   "execution_count": 8,
   "metadata": {},
   "outputs": [],
   "source": [
    "trainloader = torch.utils.data.DataLoader(cifar_train, batch_size=32, shuffle=True)\n",
    "testloader = torch.utils.data.DataLoader(cifar_test, batch_size=32, shuffle=True)"
   ]
  },
  {
   "cell_type": "code",
   "execution_count": 9,
   "metadata": {},
   "outputs": [],
   "source": [
    "class LeNet(nn.Module):\n",
    "    # 一般在__init__中定义网络需要的操作算子，比如卷积、全连接算子等等\n",
    "    def __init__(self):\n",
    "        super(LeNet, self).__init__()\n",
    "        # Conv2d的第一个参数是输入的channel数量，第二个是输出的channel数量，第三个是kernel size\n",
    "        self.conv1 = nn.Conv2d(3, 6, 5)\n",
    "        self.conv2 = nn.Conv2d(6, 16, 5)\n",
    "        # 由于上一层有16个channel输出，每个feature map大小为5*5，所以全连接层的输入是16*5*5\n",
    "        self.fc1 = nn.Linear(16*5*5, 120)\n",
    "        self.fc2 = nn.Linear(120, 84)\n",
    "        # 最终有10类，所以最后一个全连接层输出数量是10\n",
    "        self.fc3 = nn.Linear(84, 10)\n",
    "        self.pool = nn.MaxPool2d(2, 2)\n",
    "    # forward这个函数定义了前向传播的运算，只需要像写普通的python算数运算那样就可以了\n",
    "    def forward(self, x):\n",
    "        x = F.relu(self.conv1(x))\n",
    "        x = self.pool(x)\n",
    "        x = F.relu(self.conv2(x))\n",
    "        x = self.pool(x)\n",
    "        # 下面这步把二维特征图变为一维，这样全连接层才能处理\n",
    "        x = x.view(-1, 16*5*5)\n",
    "        x = F.relu(self.fc1(x))\n",
    "        x = F.relu(self.fc2(x))\n",
    "        x = self.fc3(x)\n",
    "        return x"
   ]
  },
  {
   "cell_type": "code",
   "execution_count": 11,
   "metadata": {},
   "outputs": [],
   "source": [
    "# optim中定义了各种各样的优化方法，包括SGD\n",
    "import torch.optim as optim\n",
    "\n",
    "# 如果你没有GPU，那么可以忽略device相关的代码\n",
    "device = torch.device(\"cpu\")\n",
    "net = LeNet().to(device)\n",
    "\n",
    "# CrossEntropyLoss就是我们需要的损失函数\n",
    "criterion = nn.CrossEntropyLoss()\n",
    "optimizer = optim.SGD(net.parameters(), lr=0.001, momentum=0.9)"
   ]
  },
  {
   "cell_type": "code",
   "execution_count": null,
   "metadata": {},
   "outputs": [
    {
     "name": "stdout",
     "output_type": "stream",
     "text": [
      "Start Training...\n",
      "[Epoch 1, Batch   100] loss: 1.558\n",
      "[Epoch 1, Batch   200] loss: 1.551\n",
      "[Epoch 1, Batch   300] loss: 1.511\n",
      "[Epoch 1, Batch   400] loss: 1.552\n",
      "[Epoch 1, Batch   500] loss: 1.508\n",
      "[Epoch 1, Batch   600] loss: 1.494\n",
      "[Epoch 1, Batch   700] loss: 1.523\n",
      "[Epoch 1, Batch   800] loss: 1.483\n",
      "[Epoch 1, Batch   900] loss: 1.521\n",
      "[Epoch 1, Batch  1000] loss: 1.484\n",
      "[Epoch 1, Batch  1100] loss: 1.467\n",
      "[Epoch 1, Batch  1200] loss: 1.490\n",
      "[Epoch 1, Batch  1300] loss: 1.469\n",
      "[Epoch 1, Batch  1400] loss: 1.459\n",
      "[Epoch 1, Batch  1500] loss: 1.471\n",
      "[Epoch 2, Batch   100] loss: 1.434\n",
      "[Epoch 2, Batch   200] loss: 1.423\n",
      "[Epoch 2, Batch   300] loss: 1.442\n",
      "[Epoch 2, Batch   400] loss: 1.447\n",
      "[Epoch 2, Batch   500] loss: 1.432\n",
      "[Epoch 2, Batch   600] loss: 1.402\n",
      "[Epoch 2, Batch   700] loss: 1.396\n",
      "[Epoch 2, Batch   800] loss: 1.424\n",
      "[Epoch 2, Batch   900] loss: 1.422\n",
      "[Epoch 2, Batch  1000] loss: 1.379\n",
      "[Epoch 2, Batch  1100] loss: 1.383\n",
      "[Epoch 2, Batch  1200] loss: 1.415\n",
      "[Epoch 2, Batch  1300] loss: 1.367\n",
      "[Epoch 2, Batch  1400] loss: 1.385\n",
      "[Epoch 2, Batch  1500] loss: 1.345\n",
      "[Epoch 3, Batch   100] loss: 1.379\n",
      "[Epoch 3, Batch   200] loss: 1.343\n",
      "[Epoch 3, Batch   300] loss: 1.345\n",
      "[Epoch 3, Batch   400] loss: 1.363\n",
      "[Epoch 3, Batch   500] loss: 1.348\n",
      "[Epoch 3, Batch   600] loss: 1.387\n",
      "[Epoch 3, Batch   700] loss: 1.319\n",
      "[Epoch 3, Batch   800] loss: 1.312\n",
      "[Epoch 3, Batch   900] loss: 1.337\n",
      "[Epoch 3, Batch  1000] loss: 1.318\n",
      "[Epoch 3, Batch  1100] loss: 1.323\n",
      "[Epoch 3, Batch  1200] loss: 1.320\n",
      "[Epoch 3, Batch  1300] loss: 1.330\n",
      "[Epoch 3, Batch  1400] loss: 1.306\n",
      "[Epoch 3, Batch  1500] loss: 1.290\n",
      "[Epoch 4, Batch   100] loss: 1.289\n",
      "[Epoch 4, Batch   200] loss: 1.283\n",
      "[Epoch 4, Batch   300] loss: 1.321\n",
      "[Epoch 4, Batch   400] loss: 1.256\n",
      "[Epoch 4, Batch   500] loss: 1.303\n",
      "[Epoch 4, Batch   600] loss: 1.295\n",
      "[Epoch 4, Batch   700] loss: 1.283\n",
      "[Epoch 4, Batch   800] loss: 1.293\n",
      "[Epoch 4, Batch   900] loss: 1.239\n",
      "[Epoch 4, Batch  1000] loss: 1.287\n",
      "[Epoch 4, Batch  1100] loss: 1.255\n",
      "[Epoch 4, Batch  1200] loss: 1.234\n",
      "[Epoch 4, Batch  1300] loss: 1.280\n",
      "[Epoch 4, Batch  1400] loss: 1.245\n",
      "[Epoch 4, Batch  1500] loss: 1.237\n",
      "[Epoch 5, Batch   100] loss: 1.225\n",
      "[Epoch 5, Batch   200] loss: 1.237\n",
      "[Epoch 5, Batch   300] loss: 1.231\n",
      "[Epoch 5, Batch   400] loss: 1.264\n",
      "[Epoch 5, Batch   500] loss: 1.243\n",
      "[Epoch 5, Batch   600] loss: 1.244\n"
     ]
    }
   ],
   "source": [
    "print(\"Start Training...\")\n",
    "for epoch in range(5):\n",
    "    # 我们用一个变量来记录每100个batch的平均loss\n",
    "    loss100 = 0.0\n",
    "    # 我们的dataloader派上了用场\n",
    "    for i, data in enumerate(trainloader):\n",
    "        inputs, labels = data\n",
    "        inputs, labels = inputs.to(device), labels.to(device) # 注意需要复制到GPU\n",
    "        optimizer.zero_grad()\n",
    "        outputs = net(inputs)\n",
    "        loss = criterion(outputs, labels)\n",
    "        loss.backward()\n",
    "        optimizer.step()\n",
    "        loss100 += loss.item()\n",
    "        if i % 100 == 99:\n",
    "            print('[Epoch %d, Batch %5d] loss: %.3f' %\n",
    "                  (epoch + 1, i + 1, loss100 / 100))\n",
    "            loss100 = 0.0\n",
    "\n",
    "print(\"Done Training!\")"
   ]
  },
  {
   "cell_type": "code",
   "execution_count": 1,
   "metadata": {},
   "outputs": [],
   "source": [
    "# 以上部分jieshi\n",
    "# 首先要把梯度清零，不然PyTorch每次计算梯度会累加，不清零的话第二次算的梯度等于第一次加第二次的       \n",
    "# optimizer.zero_grad()\n",
    "# 计算前向传播的输出\n",
    "# outputs = net(inputs)\n",
    "# 根据输出计算loss\n",
    "# loss = criterion(outputs, labels)\n",
    "# 算完loss之后进行反向梯度传播，这个过程之后梯度会记录在变量中\n",
    "# loss.backward()\n",
    "# 用计算的梯度去做优化\n",
    "# optimizer.step()"
   ]
  }
 ],
 "metadata": {
  "kernelspec": {
   "display_name": "Python 3",
   "language": "python",
   "name": "python3"
  },
  "language_info": {
   "codemirror_mode": {
    "name": "ipython",
    "version": 3
   },
   "file_extension": ".py",
   "mimetype": "text/x-python",
   "name": "python",
   "nbconvert_exporter": "python",
   "pygments_lexer": "ipython3",
   "version": "3.6.9"
  }
 },
 "nbformat": 4,
 "nbformat_minor": 2
}
